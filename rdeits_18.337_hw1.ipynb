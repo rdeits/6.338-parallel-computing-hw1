{
 "cells": [
  {
   "cell_type": "markdown",
   "metadata": {},
   "source": [
    "## 1a. \n",
    "> What is a nice formula for the broken line in the parallel prefix curve?"
   ]
  },
  {
   "cell_type": "markdown",
   "metadata": {},
   "source": [
    "$\\frac{p}{\\text{floor}\\ [2 (\\log_2 (p)) - 1]}$"
   ]
  },
  {
   "cell_type": "code",
   "execution_count": 1,
   "metadata": {
    "collapsed": false
   },
   "outputs": [
    {
     "name": "stderr",
     "output_type": "stream",
     "text": [
      "INFO: Loading help data...\n"
     ]
    }
   ],
   "source": [
    "using PyPlot"
   ]
  },
  {
   "cell_type": "code",
   "execution_count": 2,
   "metadata": {
    "collapsed": false
   },
   "outputs": [
    {
     "data": {
      "text/plain": [
       "speedup (generic function with 1 method)"
      ]
     },
     "execution_count": 2,
     "metadata": {},
     "output_type": "execute_result"
    }
   ],
   "source": [
    "function speedup(p)\n",
    "    p ./ floor(2 * log2(p) - 1)\n",
    "end\n"
   ]
  },
  {
   "cell_type": "code",
   "execution_count": 3,
   "metadata": {
    "collapsed": false,
    "scrolled": false
   },
   "outputs": [
    {
     "data": {
      "image/png": "[encoded data removed]",
      "text/plain": [
       "Figure(PyObject <matplotlib.figure.Figure object at 0x120392dd0>)"
      ]
     },
     "metadata": {},
     "output_type": "display_data"
    },
    {
     "data": {
      "text/plain": [
       "(0,8)"
      ]
     },
     "execution_count": 3,
     "metadata": {},
     "output_type": "execute_result"
    }
   ],
   "source": [
    "p = 2:80\n",
    "plot(p, speedup(p))\n",
    "ylim([0,8])"
   ]
  },
  {
   "cell_type": "markdown",
   "metadata": {},
   "source": [
    "## 1b. \n",
    "> Can you roughly explain the formula?  (Not a formal proof)"
   ]
  },
  {
   "cell_type": "markdown",
   "metadata": {},
   "source": [
    "The parallel prefix produces a structure with $\\text{floor}\\ [2 (\\log_2 (p)) - 1]$ layers of computation. Within a layer, all computations are independent and can thus be distributed and solved simulataneously across the parallel processors. So the parallel prefix implementation should require $\\text{floor}\\ [2 (\\log_2 (p)) - 1]$ steps. An equivalent serial computation would require $p$ sequential operations. Thus, the speedup is  $\\frac{p}{\\text{floor}\\ [2 (\\log_2 (p)) - 1]}$"
   ]
  },
  {
   "cell_type": "markdown",
   "metadata": {},
   "source": [
    "## 2.\n",
    "\n",
    "> The exclusive prefix computes the \"sum\" of every number but yourself. ($y_i = \\sum_{j\\ne i}x_j$) <br>\n",
    "Here sum is general, and there is no concept of subtraction.  Write a recursive function similar to the\n",
    "one in lecture 3, that computes the exclusive prefix.  Give an example why this would be preferred over\n",
    "subtraction."
   ]
  },
  {
   "cell_type": "markdown",
   "metadata": {},
   "source": [
    "First, let's define the obvious versions of the exclusive sum and product, so we can test with them later. "
   ]
  },
  {
   "cell_type": "code",
   "execution_count": 4,
   "metadata": {
    "collapsed": false
   },
   "outputs": [
    {
     "data": {
      "text/plain": [
       "exclusive_sum_serial (generic function with 1 method)"
      ]
     },
     "execution_count": 4,
     "metadata": {},
     "output_type": "execute_result"
    }
   ],
   "source": [
    "function exclusive_sum_serial(x)\n",
    "    # Simple version for testing\n",
    "    y = zeros(x)\n",
    "    for i in 1:length(x)\n",
    "        for j in 1:length(x)\n",
    "            if i != j\n",
    "                y[i] += x[j]\n",
    "            end\n",
    "        end\n",
    "    end\n",
    "    y\n",
    "end"
   ]
  },
  {
   "cell_type": "code",
   "execution_count": 5,
   "metadata": {
    "collapsed": true
   },
   "outputs": [],
   "source": [
    "@assert(all(exclusive_sum_serial([1,2,3,4]) == [9, 8, 7, 6]))"
   ]
  },
  {
   "cell_type": "code",
   "execution_count": 6,
   "metadata": {
    "collapsed": false
   },
   "outputs": [
    {
     "data": {
      "text/plain": [
       "exclusive_product_serial (generic function with 1 method)"
      ]
     },
     "execution_count": 6,
     "metadata": {},
     "output_type": "execute_result"
    }
   ],
   "source": [
    "function exclusive_product_serial(x)\n",
    "    # Simple version for testing\n",
    "    y = ones(x)\n",
    "    for i in 1:length(x)\n",
    "        for j = 1:length(x)\n",
    "            if i != j\n",
    "                y[i] *= x[j]\n",
    "            end\n",
    "        end\n",
    "    end\n",
    "    y\n",
    "end"
   ]
  },
  {
   "cell_type": "code",
   "execution_count": 7,
   "metadata": {
    "collapsed": true
   },
   "outputs": [],
   "source": [
    "@assert(all(exclusive_product_serial([1,2,3,4]) == [24, 12, 8, 6]))"
   ]
  },
  {
   "cell_type": "markdown",
   "metadata": {},
   "source": [
    "Now let's define our recursive function"
   ]
  },
  {
   "cell_type": "code",
   "execution_count": 8,
   "metadata": {
    "collapsed": false
   },
   "outputs": [
    {
     "data": {
      "text/plain": [
       "exclusive_prefix_recursive (generic function with 2 methods)"
      ]
     },
     "execution_count": 8,
     "metadata": {},
     "output_type": "execute_result"
    }
   ],
   "source": [
    "function exclusive_prefix_recursive(x, ⊕, identity=0)\n",
    "    # exclusive_prefix_recursive: return y such that y[j] is the \"sum\"\n",
    "    # over all x[i] where i != j. The \"sum\" is computed using the provided\n",
    "    # operator. \n",
    "    #\n",
    "    # x: a 1-dimensional Array\n",
    "    # ⊕ (\\oplus): an associative binary operator\n",
    "    # identity: the identity element corresponding to operator ⊕\n",
    "    #   for example, if ⊕ is +, then identity should be 0\n",
    "    #\n",
    "    n = length(x)\n",
    "    if n > 2\n",
    "        y = x[:]\n",
    "        w = x[1:2:n]\n",
    "        for j = 1:floor(n/2)\n",
    "            w[j] = w[j] ⊕ x[2*j]\n",
    "        end\n",
    "        \n",
    "        w = exclusive_prefix_recursive(w, ⊕, identity)\n",
    "        for j = 1:length(x)\n",
    "            y[j] = w[ceil(j/2)]\n",
    "            if mod(j, 2) == 0\n",
    "                y[j] = y[j] ⊕ x[j-1]\n",
    "            elseif j+1 <= length(x)\n",
    "                y[j] = y[j] ⊕ x[j+1]\n",
    "            end\n",
    "        end\n",
    "    elseif n == 2\n",
    "        y = reverse(x)\n",
    "    else \n",
    "        # then n == 1\n",
    "        y = identity\n",
    "    end\n",
    "    y\n",
    "end\n"
   ]
  },
  {
   "cell_type": "markdown",
   "metadata": {},
   "source": [
    "Test some easy examples:"
   ]
  },
  {
   "cell_type": "code",
   "execution_count": 9,
   "metadata": {
    "collapsed": false
   },
   "outputs": [],
   "source": [
    "@assert(all(exclusive_prefix_recursive([1,2,3,4], +) == [9, 8, 7, 6]))"
   ]
  },
  {
   "cell_type": "code",
   "execution_count": 10,
   "metadata": {
    "collapsed": true
   },
   "outputs": [],
   "source": [
    "@assert(all(exclusive_prefix_recursive([1,2,3,4], *, 1) == [24, 12, 8, 6]))"
   ]
  },
  {
   "cell_type": "code",
   "execution_count": 11,
   "metadata": {
    "collapsed": true
   },
   "outputs": [],
   "source": [
    "@assert(exclusive_prefix_recursive([1], +) == 0)"
   ]
  },
  {
   "cell_type": "code",
   "execution_count": 12,
   "metadata": {
    "collapsed": false
   },
   "outputs": [],
   "source": [
    "@assert(exclusive_prefix_recursive([1], *, 1) == 1)"
   ]
  },
  {
   "cell_type": "markdown",
   "metadata": {},
   "source": [
    "Now let's make sure it works for inputs which are not powers of 2"
   ]
  },
  {
   "cell_type": "code",
   "execution_count": 13,
   "metadata": {
    "collapsed": false
   },
   "outputs": [],
   "source": [
    "for numel in 1:100\n",
    "    x = randn(numel)\n",
    "    @assert(all(abs(exclusive_prefix_recursive(x, +, 0) \n",
    "                    .- exclusive_sum_serial(x)) .< 1e-9))\n",
    "end\n",
    "\n",
    "for numel in 1:100\n",
    "    x = randn(numel)\n",
    "    @assert(all(abs(exclusive_prefix_recursive(x, *, 1)\n",
    "                    .- exclusive_product_serial(x)) .< 1e-9))\n",
    "end"
   ]
  },
  {
   "cell_type": "markdown",
   "metadata": {},
   "source": [
    "### When might this be preferred over subtraction?\n",
    "One case in which the exclusive sum might be preferred is when dealing with floating point arithmetic. While one would expect that that \n",
    "\n",
    "$$\n",
    "(x_1 + x_2) - x_2 = x_1\n",
    "$$\n",
    "\n",
    "the roundoff in floating point arithmetic means that such an identity may not hold:"
   ]
  },
  {
   "cell_type": "code",
   "execution_count": 14,
   "metadata": {
    "collapsed": false
   },
   "outputs": [
    {
     "data": {
      "text/plain": [
       "false"
      ]
     },
     "execution_count": 14,
     "metadata": {},
     "output_type": "execute_result"
    }
   ],
   "source": [
    "x1 = 1/3\n",
    "x2 = 1e100\n",
    "(x1 + x2) - x2 == x1"
   ]
  },
  {
   "cell_type": "markdown",
   "metadata": {},
   "source": [
    "However, the exclusive sum produces the correct result:"
   ]
  },
  {
   "cell_type": "code",
   "execution_count": 15,
   "metadata": {
    "collapsed": false
   },
   "outputs": [
    {
     "data": {
      "text/plain": [
       "2-element Array{Float64,1}:\n",
       " 1.0e100 \n",
       " 0.333333"
      ]
     },
     "execution_count": 15,
     "metadata": {},
     "output_type": "execute_result"
    }
   ],
   "source": [
    "y = exclusive_prefix_recursive([x1, x2], +)"
   ]
  },
  {
   "cell_type": "code",
   "execution_count": 16,
   "metadata": {
    "collapsed": false
   },
   "outputs": [
    {
     "data": {
      "text/plain": [
       "true"
      ]
     },
     "execution_count": 16,
     "metadata": {},
     "output_type": "execute_result"
    }
   ],
   "source": [
    "y[2] == x1"
   ]
  },
  {
   "cell_type": "markdown",
   "metadata": {},
   "source": [
    "## 3.\n",
    "> Write a parallel-style code that computes the carry lookahead addition of Babbage's using only matrix multiply prefix and embarassingly parallel operations."
   ]
  },
  {
   "cell_type": "code",
   "execution_count": 17,
   "metadata": {
    "collapsed": false
   },
   "outputs": [
    {
     "data": {
      "text/plain": [
       "to_binary (generic function with 2 methods)"
      ]
     },
     "execution_count": 17,
     "metadata": {},
     "output_type": "execute_result"
    }
   ],
   "source": [
    "function to_binary(x::Int, nbits::Int=8)\n",
    "    # Convert a number to its binary representation as an array\n",
    "    # of booleans, LSB first. \n",
    "    @assert(x < 2^nbits)\n",
    "    bits = Array(Bool, nbits)\n",
    "    for i in nbits-1:-1:0\n",
    "        if x >= 2^i\n",
    "            bits[i+1] = 1\n",
    "            x -= 2^i\n",
    "        else\n",
    "            bits[i+1] = 0\n",
    "        end\n",
    "    end\n",
    "    bits\n",
    "end"
   ]
  },
  {
   "cell_type": "code",
   "execution_count": 18,
   "metadata": {
    "collapsed": false
   },
   "outputs": [
    {
     "data": {
      "text/plain": [
       "from_binary (generic function with 1 method)"
      ]
     },
     "execution_count": 18,
     "metadata": {},
     "output_type": "execute_result"
    }
   ],
   "source": [
    "function from_binary(bits::Array{Bool, 1})\n",
    "    x = 0\n",
    "    for i in 1:length(bits)\n",
    "        if bits[i]\n",
    "            x += 2^(i-1)\n",
    "        end\n",
    "    end\n",
    "    x\n",
    "end"
   ]
  },
  {
   "cell_type": "code",
   "execution_count": 19,
   "metadata": {
    "collapsed": true
   },
   "outputs": [],
   "source": [
    "for x = 0:2^8-1\n",
    "    @assert(from_binary(to_binary(x)) == x)\n",
    "end"
   ]
  },
  {
   "cell_type": "code",
   "execution_count": 20,
   "metadata": {
    "collapsed": false
   },
   "outputs": [
    {
     "data": {
      "text/plain": [
       "prefix! (generic function with 1 method)"
      ]
     },
     "execution_count": 20,
     "metadata": {},
     "output_type": "execute_result"
    }
   ],
   "source": [
    "function prefix!(y, +)\n",
    "    # Taken from the 18.337 course notes, but with the order of operations\n",
    "    # reversed to give us matrix multiplication in the correct order.\n",
    "    l=length(y)\n",
    "    k=iceil(log2(l))\n",
    "    @inbounds for j=1:k, i=2^j:2^j:min(l, 2^k)              #\"reduce\"\n",
    "        y[i] = y[i] + y[i-2^(j-1)]\n",
    "    end\n",
    "    @inbounds for j=(k-1):-1:1, i=3*2^(j-1):2^j:min(l, 2^k) #\"broadcast\"\n",
    "        y[i] = y[i] + y[i-2^(j-1)]\n",
    "    end\n",
    "    y\n",
    "end"
   ]
  },
  {
   "cell_type": "code",
   "execution_count": 21,
   "metadata": {
    "collapsed": false
   },
   "outputs": [
    {
     "data": {
      "text/plain": [
       "prefix_lookahead_add (generic function with 1 method)"
      ]
     },
     "execution_count": 21,
     "metadata": {},
     "output_type": "execute_result"
    }
   ],
   "source": [
    "function prefix_lookahead_add(x1::Int, x2::Int)\n",
    "    # Use matrix multiply prefix to compute the sum of x1 and x2 \n",
    "    # using carry look-ahead.\n",
    "    \n",
    "    \n",
    "    nbits = ifloor(max(log2(x1), log2(x2),0)) + 1\n",
    "    x1 = to_binary(x1, nbits)\n",
    "    x2 = to_binary(x2, nbits)\n",
    "    \n",
    "    @assert(length(x1) == length(x2))\n",
    "    \n",
    "    # Construct our carry lookahead matrices\n",
    "    M = map(i -> [x1[i] $ x2[i] x1[i] & x2[i]; 0 1], 1:length(x1))\n",
    "    \n",
    "    # Compute their cumulative product\n",
    "    prefix!(M, *)\n",
    "    \n",
    "    # Extract the carry bits from the cumulative product\n",
    "    carry = map(m -> bool((m * [0; 1])[1]), M)\n",
    "    \n",
    "    # Append some zeros to make mapping easier\n",
    "    x1 = vcat(x1, [false])\n",
    "    x2 = vcat(x2, [false])\n",
    "    carry = vcat([false], carry)\n",
    "    \n",
    "    # Compute the sum bits using the original data and carry\n",
    "    sum = map(i->x1[i] $ x2[i] $ carry[i], 1:length(x1))\n",
    "    from_binary(sum)\n",
    "end"
   ]
  },
  {
   "cell_type": "markdown",
   "metadata": {},
   "source": [
    "Now let's test the lookahead adder on inputs from 0-255:"
   ]
  },
  {
   "cell_type": "code",
   "execution_count": 22,
   "metadata": {
    "collapsed": false
   },
   "outputs": [
    {
     "name": "stdout",
     "output_type": "stream",
     "text": [
      "passed\n"
     ]
    }
   ],
   "source": [
    "for x1 = 0:2^8-1\n",
    "    for x2 = 0:2^8-1\n",
    "        @assert(prefix_lookahead_add(x1, x2) == x1 + x2)\n",
    "    end\n",
    "end    \n",
    "println(\"passed\")"
   ]
  },
  {
   "cell_type": "code",
   "execution_count": null,
   "metadata": {
    "collapsed": true
   },
   "outputs": [],
   "source": []
  }
 ],
 "metadata": {
  "kernelspec": {
   "display_name": "Julia 0.3.10",
   "language": "julia",
   "name": "julia-0.3"
  },
  "language_info": {
   "file_extension": ".jl",
   "mimetype": "application/julia",
   "name": "julia",
   "version": "0.3.10"
  }
 },
 "nbformat": 4,
 "nbformat_minor": 0
}
